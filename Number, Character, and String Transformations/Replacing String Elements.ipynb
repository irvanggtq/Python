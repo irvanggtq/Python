{
 "cells": [
  {
   "cell_type": "markdown",
   "id": "635d1094",
   "metadata": {},
   "source": [
    "# Replacing String Elements"
   ]
  },
  {
   "cell_type": "markdown",
   "id": "c6f63bd5",
   "metadata": {},
   "source": [
    "The replace() method replaces a specified phrase with another specified phrase."
   ]
  },
  {
   "cell_type": "markdown",
   "id": "a9ecf985",
   "metadata": {},
   "source": [
    "Note: All occurrences of the specified phrase will be replaced, if nothing else is specified."
   ]
  },
  {
   "cell_type": "code",
   "execution_count": 1,
   "id": "cd21cc5e",
   "metadata": {},
   "outputs": [],
   "source": [
    "a = \"Hari ini hujan\""
   ]
  },
  {
   "cell_type": "code",
   "execution_count": 2,
   "id": "bc37338f",
   "metadata": {},
   "outputs": [
    {
     "name": "stdout",
     "output_type": "stream",
     "text": [
      "Hari ini cerah\n"
     ]
    }
   ],
   "source": [
    "print(a.replace('hujan', 'cerah'))"
   ]
  },
  {
   "cell_type": "markdown",
   "id": "091b75bf",
   "metadata": {},
   "source": [
    "The third parameter on replace can be filled in the number of substrings that want to be replaced."
   ]
  },
  {
   "cell_type": "code",
   "execution_count": 3,
   "id": "3115ad45",
   "metadata": {},
   "outputs": [],
   "source": [
    "a = \"Hari ini hujan dan saya membawa jas hujan\""
   ]
  },
  {
   "cell_type": "code",
   "execution_count": 4,
   "id": "13854e51",
   "metadata": {},
   "outputs": [
    {
     "name": "stdout",
     "output_type": "stream",
     "text": [
      "Hari ini mendung dan saya membawa jas hujan\n"
     ]
    }
   ],
   "source": [
    "print(a.replace(\"hujan\", \"mendung\", 1))"
   ]
  },
  {
   "cell_type": "markdown",
   "id": "b7856085",
   "metadata": {},
   "source": [
    "# TASK"
   ]
  },
  {
   "cell_type": "markdown",
   "id": "2c319378",
   "metadata": {},
   "source": [
    "Case: we want to replace \"Matematike\" to \"Biologi\""
   ]
  },
  {
   "cell_type": "code",
   "execution_count": 2,
   "id": "a99e502e",
   "metadata": {},
   "outputs": [],
   "source": [
    "x = \"Hari ini ujian Matematika\""
   ]
  },
  {
   "cell_type": "code",
   "execution_count": 4,
   "id": "f0f097e7",
   "metadata": {},
   "outputs": [
    {
     "name": "stdout",
     "output_type": "stream",
     "text": [
      "Hari ini ujian Biologi\n"
     ]
    }
   ],
   "source": [
    "print(x.replace(\"Matematika\",\"Biologi\"))"
   ]
  },
  {
   "cell_type": "markdown",
   "id": "416fb21c",
   "metadata": {},
   "source": [
    "Case: we want to replace \"merah\" (first one) into \"hijau\""
   ]
  },
  {
   "cell_type": "code",
   "execution_count": 5,
   "id": "cb980ede",
   "metadata": {},
   "outputs": [],
   "source": [
    "b = \"Bestie makan bubur kacang merah di rumah\""
   ]
  },
  {
   "cell_type": "code",
   "execution_count": 6,
   "id": "fa3633d0",
   "metadata": {},
   "outputs": [
    {
     "name": "stdout",
     "output_type": "stream",
     "text": [
      "Bestie makan bubur kacang hijau di rumah\n"
     ]
    }
   ],
   "source": [
    "print(b.replace(\"merah\",\"hijau\",1))"
   ]
  }
 ],
 "metadata": {
  "kernelspec": {
   "display_name": "Python 3 (ipykernel)",
   "language": "python",
   "name": "python3"
  },
  "language_info": {
   "codemirror_mode": {
    "name": "ipython",
    "version": 3
   },
   "file_extension": ".py",
   "mimetype": "text/x-python",
   "name": "python",
   "nbconvert_exporter": "python",
   "pygments_lexer": "ipython3",
   "version": "3.9.7"
  }
 },
 "nbformat": 4,
 "nbformat_minor": 5
}
