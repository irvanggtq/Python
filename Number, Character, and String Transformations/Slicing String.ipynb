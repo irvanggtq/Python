{
 "cells": [
  {
   "cell_type": "markdown",
   "id": "a75d06fc",
   "metadata": {},
   "source": [
    "# String Slicing"
   ]
  },
  {
   "cell_type": "markdown",
   "id": "0139a746",
   "metadata": {},
   "source": [
    "String slicing is the process of obtaining a portion (substring) of a string by using its indices. \n",
    "String itself is mutable but the elements in the string are immutable "
   ]
  },
  {
   "cell_type": "code",
   "execution_count": 7,
   "id": "21b69986",
   "metadata": {},
   "outputs": [],
   "source": [
    "a = 'Data Science'"
   ]
  },
  {
   "cell_type": "code",
   "execution_count": 8,
   "id": "09c83e10",
   "metadata": {},
   "outputs": [
    {
     "name": "stdout",
     "output_type": "stream",
     "text": [
      "t\n"
     ]
    }
   ],
   "source": [
    "print(a[2])"
   ]
  },
  {
   "cell_type": "code",
   "execution_count": 9,
   "id": "51693e11",
   "metadata": {},
   "outputs": [
    {
     "name": "stdout",
     "output_type": "stream",
     "text": [
      "ta Scie\n"
     ]
    }
   ],
   "source": [
    "print(a[2:9])"
   ]
  },
  {
   "cell_type": "code",
   "execution_count": 10,
   "id": "dcc94355",
   "metadata": {},
   "outputs": [
    {
     "name": "stdout",
     "output_type": "stream",
     "text": [
      "Data Science\n"
     ]
    }
   ],
   "source": [
    "print(a)"
   ]
  },
  {
   "cell_type": "code",
   "execution_count": 14,
   "id": "1d7c712c",
   "metadata": {},
   "outputs": [],
   "source": [
    "a = 'Data Analyst'"
   ]
  },
  {
   "cell_type": "code",
   "execution_count": 18,
   "id": "1cd353d1",
   "metadata": {},
   "outputs": [
    {
     "name": "stdout",
     "output_type": "stream",
     "text": [
      "D\n"
     ]
    }
   ],
   "source": [
    "print(a[0])"
   ]
  },
  {
   "cell_type": "code",
   "execution_count": 19,
   "id": "26595c18",
   "metadata": {},
   "outputs": [
    {
     "name": "stdout",
     "output_type": "stream",
     "text": [
      "ta Analy\n"
     ]
    }
   ],
   "source": [
    "print(a[2:10])"
   ]
  },
  {
   "cell_type": "code",
   "execution_count": 20,
   "id": "403bfe4e",
   "metadata": {},
   "outputs": [
    {
     "name": "stdout",
     "output_type": "stream",
     "text": [
      "Data Analyst\n"
     ]
    }
   ],
   "source": [
    "print(a)"
   ]
  },
  {
   "cell_type": "code",
   "execution_count": null,
   "id": "4355f2f3",
   "metadata": {},
   "outputs": [],
   "source": []
  }
 ],
 "metadata": {
  "kernelspec": {
   "display_name": "Python 3 (ipykernel)",
   "language": "python",
   "name": "python3"
  },
  "language_info": {
   "codemirror_mode": {
    "name": "ipython",
    "version": 3
   },
   "file_extension": ".py",
   "mimetype": "text/x-python",
   "name": "python",
   "nbconvert_exporter": "python",
   "pygments_lexer": "ipython3",
   "version": "3.7.9"
  }
 },
 "nbformat": 4,
 "nbformat_minor": 5
}
