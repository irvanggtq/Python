{
 "cells": [
  {
   "cell_type": "markdown",
   "id": "3afdd1c0",
   "metadata": {},
   "source": [
    "# Character, and String Transformations"
   ]
  },
  {
   "cell_type": "markdown",
   "id": "a8b19ad5",
   "metadata": {},
   "source": [
    "upper()\n",
    "- upper() can be used to convert entire characters to capital letters\n"
   ]
  },
  {
   "cell_type": "code",
   "execution_count": 1,
   "id": "0b4171e0",
   "metadata": {},
   "outputs": [],
   "source": [
    "nama = \"seo dal mi\""
   ]
  },
  {
   "cell_type": "code",
   "execution_count": 2,
   "id": "c9b1f86e",
   "metadata": {},
   "outputs": [
    {
     "data": {
      "text/plain": [
       "'SEO DAL MI'"
      ]
     },
     "execution_count": 2,
     "metadata": {},
     "output_type": "execute_result"
    }
   ],
   "source": [
    "nama.upper()"
   ]
  },
  {
   "cell_type": "markdown",
   "id": "27c40069",
   "metadata": {},
   "source": [
    "lower()\n",
    "- lower() can be used to convert entire characters to lowercase"
   ]
  },
  {
   "cell_type": "code",
   "execution_count": 3,
   "id": "8c53bb5c",
   "metadata": {},
   "outputs": [
    {
     "data": {
      "text/plain": [
       "'seo dal mi'"
      ]
     },
     "execution_count": 3,
     "metadata": {},
     "output_type": "execute_result"
    }
   ],
   "source": [
    "nama.lower()"
   ]
  },
  {
   "cell_type": "code",
   "execution_count": 4,
   "id": "51b4be1b",
   "metadata": {},
   "outputs": [],
   "source": [
    "nama = 'kim tae ri - 1'"
   ]
  },
  {
   "cell_type": "code",
   "execution_count": 5,
   "id": "def3b80e",
   "metadata": {},
   "outputs": [
    {
     "data": {
      "text/plain": [
       "'KIM TAE RI - 1'"
      ]
     },
     "execution_count": 5,
     "metadata": {},
     "output_type": "execute_result"
    }
   ],
   "source": [
    "nama.upper()"
   ]
  },
  {
   "cell_type": "markdown",
   "id": "40586137",
   "metadata": {},
   "source": [
    "# prefixes and suffixes"
   ]
  },
  {
   "cell_type": "markdown",
   "id": "ab0c21b8",
   "metadata": {},
   "source": [
    "rstrip() can be used to remove whitespace to the right of the string or the end of the string"
   ]
  },
  {
   "cell_type": "code",
   "execution_count": 6,
   "id": "a6e2f8f5",
   "metadata": {},
   "outputs": [],
   "source": [
    "a = \"Data \""
   ]
  },
  {
   "cell_type": "code",
   "execution_count": 7,
   "id": "1e870f21",
   "metadata": {},
   "outputs": [
    {
     "name": "stdout",
     "output_type": "stream",
     "text": [
      "Data \n"
     ]
    }
   ],
   "source": [
    "print(a)"
   ]
  },
  {
   "cell_type": "code",
   "execution_count": 8,
   "id": "64d0e2fe",
   "metadata": {},
   "outputs": [
    {
     "data": {
      "text/plain": [
       "'Data '"
      ]
     },
     "execution_count": 8,
     "metadata": {},
     "output_type": "execute_result"
    }
   ],
   "source": [
    "a"
   ]
  },
  {
   "cell_type": "code",
   "execution_count": 9,
   "id": "fc1c8162",
   "metadata": {},
   "outputs": [
    {
     "data": {
      "text/plain": [
       "'Data'"
      ]
     },
     "execution_count": 9,
     "metadata": {},
     "output_type": "execute_result"
    }
   ],
   "source": [
    "a.rstrip()"
   ]
  },
  {
   "cell_type": "markdown",
   "id": "14c23b29",
   "metadata": {},
   "source": [
    "lstrip() can be used to remove whitespace on the left or beginning of the string"
   ]
  },
  {
   "cell_type": "code",
   "execution_count": 10,
   "id": "9fed9d00",
   "metadata": {},
   "outputs": [],
   "source": [
    "a = \"   Data\""
   ]
  },
  {
   "cell_type": "code",
   "execution_count": 11,
   "id": "c4885253",
   "metadata": {},
   "outputs": [
    {
     "data": {
      "text/plain": [
       "'   Data'"
      ]
     },
     "execution_count": 11,
     "metadata": {},
     "output_type": "execute_result"
    }
   ],
   "source": [
    "a"
   ]
  },
  {
   "cell_type": "code",
   "execution_count": 12,
   "id": "9d87413a",
   "metadata": {},
   "outputs": [
    {
     "data": {
      "text/plain": [
       "'Data'"
      ]
     },
     "execution_count": 12,
     "metadata": {},
     "output_type": "execute_result"
    }
   ],
   "source": [
    "a.lstrip()"
   ]
  },
  {
   "cell_type": "markdown",
   "id": "4d48d7ac",
   "metadata": {},
   "source": [
    "strip() can be used to remove whitespace at the beginning or end of a string"
   ]
  },
  {
   "cell_type": "code",
   "execution_count": 13,
   "id": "2dc6a0c4",
   "metadata": {},
   "outputs": [],
   "source": [
    "a = \"Data \""
   ]
  },
  {
   "cell_type": "code",
   "execution_count": 14,
   "id": "96689fa3",
   "metadata": {},
   "outputs": [
    {
     "data": {
      "text/plain": [
       "'Data'"
      ]
     },
     "execution_count": 14,
     "metadata": {},
     "output_type": "execute_result"
    }
   ],
   "source": [
    "a.strip()"
   ]
  },
  {
   "cell_type": "code",
   "execution_count": 15,
   "id": "2e7855cd",
   "metadata": {},
   "outputs": [
    {
     "data": {
      "text/plain": [
       "'Data '"
      ]
     },
     "execution_count": 15,
     "metadata": {},
     "output_type": "execute_result"
    }
   ],
   "source": [
    "a"
   ]
  },
  {
   "cell_type": "markdown",
   "id": "e01d4852",
   "metadata": {},
   "source": [
    "When we enter 'data' as a parameter, then every word 'data' will be deleted at the beginning or at the end"
   ]
  },
  {
   "cell_type": "code",
   "execution_count": 16,
   "id": "527e43b3",
   "metadata": {},
   "outputs": [],
   "source": [
    "coba = \"DataScience\""
   ]
  },
  {
   "cell_type": "code",
   "execution_count": 17,
   "id": "a866f3cd",
   "metadata": {},
   "outputs": [
    {
     "data": {
      "text/plain": [
       "'Science'"
      ]
     },
     "execution_count": 17,
     "metadata": {},
     "output_type": "execute_result"
    }
   ],
   "source": [
    "coba.strip(\"Data\")"
   ]
  },
  {
   "cell_type": "markdown",
   "id": "63bdef10",
   "metadata": {},
   "source": [
    "# Challenge"
   ]
  },
  {
   "cell_type": "code",
   "execution_count": 18,
   "id": "bdca6986",
   "metadata": {},
   "outputs": [],
   "source": [
    "nama = \" Shafira Aisyah \""
   ]
  },
  {
   "cell_type": "code",
   "execution_count": 19,
   "id": "1a9d589a",
   "metadata": {},
   "outputs": [
    {
     "data": {
      "text/plain": [
       "' Shafira Aisyah '"
      ]
     },
     "execution_count": 19,
     "metadata": {},
     "output_type": "execute_result"
    }
   ],
   "source": [
    "nama.strip(\"Shafira\")"
   ]
  },
  {
   "cell_type": "code",
   "execution_count": 20,
   "id": "8d3d923b",
   "metadata": {},
   "outputs": [],
   "source": [
    "nama = \"ShafiraAisyah\""
   ]
  },
  {
   "cell_type": "code",
   "execution_count": 21,
   "id": "31017676",
   "metadata": {},
   "outputs": [
    {
     "data": {
      "text/plain": [
       "'Aisy'"
      ]
     },
     "execution_count": 21,
     "metadata": {},
     "output_type": "execute_result"
    }
   ],
   "source": [
    "nama.strip(\"Shafira\")"
   ]
  },
  {
   "cell_type": "markdown",
   "id": "bc1b2618",
   "metadata": {},
   "source": [
    "startswith() returns True if the string ends with the specified value, otherwise False."
   ]
  },
  {
   "cell_type": "code",
   "execution_count": 22,
   "id": "6197944c",
   "metadata": {},
   "outputs": [],
   "source": [
    "a = \"Data Science\""
   ]
  },
  {
   "cell_type": "code",
   "execution_count": 23,
   "id": "c29a907a",
   "metadata": {},
   "outputs": [
    {
     "data": {
      "text/plain": [
       "False"
      ]
     },
     "execution_count": 23,
     "metadata": {},
     "output_type": "execute_result"
    }
   ],
   "source": [
    "a. startswith(\"Science\")"
   ]
  },
  {
   "cell_type": "code",
   "execution_count": 24,
   "id": "4e3b99f2",
   "metadata": {},
   "outputs": [],
   "source": [
    "b = \"Data Science Track\""
   ]
  },
  {
   "cell_type": "code",
   "execution_count": 25,
   "id": "8ba0e9be",
   "metadata": {},
   "outputs": [
    {
     "data": {
      "text/plain": [
       "True"
      ]
     },
     "execution_count": 25,
     "metadata": {},
     "output_type": "execute_result"
    }
   ],
   "source": [
    "b.startswith(\"Data\")"
   ]
  },
  {
   "cell_type": "code",
   "execution_count": 26,
   "id": "64e35441",
   "metadata": {},
   "outputs": [],
   "source": [
    "c = \"Data Science Track\""
   ]
  },
  {
   "cell_type": "code",
   "execution_count": 27,
   "id": "72b6af4d",
   "metadata": {},
   "outputs": [
    {
     "data": {
      "text/plain": [
       "True"
      ]
     },
     "execution_count": 27,
     "metadata": {},
     "output_type": "execute_result"
    }
   ],
   "source": [
    "c.startswith(\"Data Science\")"
   ]
  },
  {
   "cell_type": "code",
   "execution_count": 28,
   "id": "791db771",
   "metadata": {},
   "outputs": [],
   "source": [
    "d = \"Data Science Track\""
   ]
  },
  {
   "cell_type": "code",
   "execution_count": 29,
   "id": "f38842cd",
   "metadata": {},
   "outputs": [
    {
     "data": {
      "text/plain": [
       "False"
      ]
     },
     "execution_count": 29,
     "metadata": {},
     "output_type": "execute_result"
    }
   ],
   "source": [
    "d.startswith(\"Track\")"
   ]
  },
  {
   "cell_type": "markdown",
   "id": "902739f6",
   "metadata": {},
   "source": [
    "endswith() is the opposite of startswith, this method returns true if the string starts with the specified value"
   ]
  },
  {
   "cell_type": "code",
   "execution_count": 30,
   "id": "efa65863",
   "metadata": {},
   "outputs": [],
   "source": [
    "a = \"Data Science\""
   ]
  },
  {
   "cell_type": "code",
   "execution_count": 31,
   "id": "98169480",
   "metadata": {},
   "outputs": [
    {
     "data": {
      "text/plain": [
       "True"
      ]
     },
     "execution_count": 31,
     "metadata": {},
     "output_type": "execute_result"
    }
   ],
   "source": [
    "a.endswith(\"Science\")"
   ]
  },
  {
   "cell_type": "markdown",
   "id": "b325fd67",
   "metadata": {},
   "source": [
    "# Challenge kel 2"
   ]
  },
  {
   "cell_type": "code",
   "execution_count": 32,
   "id": "3afe9ecc",
   "metadata": {},
   "outputs": [],
   "source": [
    "materi = \"Transformasi angka, karakter dan string\""
   ]
  },
  {
   "cell_type": "code",
   "execution_count": 33,
   "id": "e4227166",
   "metadata": {},
   "outputs": [
    {
     "data": {
      "text/plain": [
       "True"
      ]
     },
     "execution_count": 33,
     "metadata": {},
     "output_type": "execute_result"
    }
   ],
   "source": [
    "materi.startswith(\"Transformasi\")"
   ]
  },
  {
   "cell_type": "code",
   "execution_count": 34,
   "id": "9d4efec7",
   "metadata": {},
   "outputs": [
    {
     "data": {
      "text/plain": [
       "True"
      ]
     },
     "execution_count": 34,
     "metadata": {},
     "output_type": "execute_result"
    }
   ],
   "source": [
    "materi.startswith(\"Transformasi angka\")"
   ]
  },
  {
   "cell_type": "code",
   "execution_count": 35,
   "id": "9bf35fb8",
   "metadata": {},
   "outputs": [
    {
     "data": {
      "text/plain": [
       "False"
      ]
     },
     "execution_count": 35,
     "metadata": {},
     "output_type": "execute_result"
    }
   ],
   "source": [
    "materi.startswith(\"transformasi angka\")"
   ]
  },
  {
   "cell_type": "code",
   "execution_count": 36,
   "id": "e9d84f3d",
   "metadata": {},
   "outputs": [
    {
     "data": {
      "text/plain": [
       "True"
      ]
     },
     "execution_count": 36,
     "metadata": {},
     "output_type": "execute_result"
    }
   ],
   "source": [
    "materi.startswith(\"Transformasi angka, karakter\")"
   ]
  },
  {
   "cell_type": "code",
   "execution_count": 37,
   "id": "f2c19ed9",
   "metadata": {},
   "outputs": [
    {
     "data": {
      "text/plain": [
       "False"
      ]
     },
     "execution_count": 37,
     "metadata": {},
     "output_type": "execute_result"
    }
   ],
   "source": [
    "materi.startswith(\"Transformasi angka karakter\")"
   ]
  },
  {
   "cell_type": "code",
   "execution_count": 38,
   "id": "d8d29e6e",
   "metadata": {},
   "outputs": [
    {
     "data": {
      "text/plain": [
       "True"
      ]
     },
     "execution_count": 38,
     "metadata": {},
     "output_type": "execute_result"
    }
   ],
   "source": [
    "materi.endswith(\"string\")"
   ]
  },
  {
   "cell_type": "code",
   "execution_count": 39,
   "id": "50eb3131",
   "metadata": {},
   "outputs": [
    {
     "data": {
      "text/plain": [
       "True"
      ]
     },
     "execution_count": 39,
     "metadata": {},
     "output_type": "execute_result"
    }
   ],
   "source": [
    "materi.endswith(\"dan string\")"
   ]
  },
  {
   "cell_type": "code",
   "execution_count": 40,
   "id": "65bba0fe",
   "metadata": {},
   "outputs": [
    {
     "data": {
      "text/plain": [
       "True"
      ]
     },
     "execution_count": 40,
     "metadata": {},
     "output_type": "execute_result"
    }
   ],
   "source": [
    "materi.endswith(\"karakter dan string\")"
   ]
  },
  {
   "cell_type": "code",
   "execution_count": null,
   "id": "2cb60c30",
   "metadata": {},
   "outputs": [],
   "source": []
  }
 ],
 "metadata": {
  "kernelspec": {
   "display_name": "Python 3 (ipykernel)",
   "language": "python",
   "name": "python3"
  },
  "language_info": {
   "codemirror_mode": {
    "name": "ipython",
    "version": 3
   },
   "file_extension": ".py",
   "mimetype": "text/x-python",
   "name": "python",
   "nbconvert_exporter": "python",
   "pygments_lexer": "ipython3",
   "version": "3.9.7"
  }
 },
 "nbformat": 4,
 "nbformat_minor": 5
}
