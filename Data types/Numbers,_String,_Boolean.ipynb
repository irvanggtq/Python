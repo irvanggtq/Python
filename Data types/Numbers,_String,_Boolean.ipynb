{
  "cells": [
    {
      "cell_type": "markdown",
      "id": "ad4ee174",
      "metadata": {
        "id": "ad4ee174"
      },
      "source": [
        "# DATA TYPE\n",
        "The concept of data type is crucial in programming language.\n",
        "\n",
        "Different types of data can be stored in variables, and different types can perform various functions.\n",
        "\n",
        "The following categories of data types are included by default in Python:\n",
        "\n",
        "    1. Numbers (int, float, complex):\n",
        "        int is not for decimal numbers\n",
        "        float is for decimal numbers\n",
        "        complex is for imaginary numbers"
      ]
    },
    {
      "cell_type": "code",
      "execution_count": null,
      "id": "f0a819b5",
      "metadata": {
        "id": "f0a819b5"
      },
      "outputs": [],
      "source": [
        "a = 15"
      ]
    },
    {
      "cell_type": "code",
      "execution_count": null,
      "id": "e235780b",
      "metadata": {
        "id": "e235780b",
        "outputId": "7b5f3511-2327-486b-8617-6ccce0b325fb"
      },
      "outputs": [
        {
          "data": {
            "text/plain": [
              "int"
            ]
          },
          "execution_count": 12,
          "metadata": {},
          "output_type": "execute_result"
        }
      ],
      "source": [
        "type(a)"
      ]
    },
    {
      "cell_type": "code",
      "execution_count": null,
      "id": "9bc02339",
      "metadata": {
        "id": "9bc02339"
      },
      "outputs": [],
      "source": [
        "b = 7.5"
      ]
    },
    {
      "cell_type": "code",
      "execution_count": null,
      "id": "a3f025bc",
      "metadata": {
        "id": "a3f025bc",
        "outputId": "f100c6bf-e503-4ad6-d477-938381b79c7d"
      },
      "outputs": [
        {
          "data": {
            "text/plain": [
              "float"
            ]
          },
          "execution_count": 14,
          "metadata": {},
          "output_type": "execute_result"
        }
      ],
      "source": [
        "type(b)"
      ]
    },
    {
      "cell_type": "code",
      "execution_count": null,
      "id": "7efbf673",
      "metadata": {
        "id": "7efbf673"
      },
      "outputs": [],
      "source": [
        "c = 2-5j"
      ]
    },
    {
      "cell_type": "code",
      "execution_count": null,
      "id": "7f922a8b",
      "metadata": {
        "id": "7f922a8b",
        "outputId": "d18d35b6-d85e-4a92-acc1-8cad9bb843f8"
      },
      "outputs": [
        {
          "data": {
            "text/plain": [
              "complex"
            ]
          },
          "execution_count": 16,
          "metadata": {},
          "output_type": "execute_result"
        }
      ],
      "source": [
        "type(c)"
      ]
    },
    {
      "cell_type": "markdown",
      "id": "d3f18c32",
      "metadata": {
        "id": "d3f18c32"
      },
      "source": [
        "    2. String (str):  a data structure of words that stores a sequence of elements, typically characters."
      ]
    },
    {
      "cell_type": "code",
      "execution_count": null,
      "id": "71c03897",
      "metadata": {
        "id": "71c03897"
      },
      "outputs": [],
      "source": [
        "a = \"Halo Dunia!!!\"\n",
        "print (a)"
      ]
    },
    {
      "cell_type": "code",
      "execution_count": null,
      "id": "73e1cc45",
      "metadata": {
        "id": "73e1cc45",
        "outputId": "2179b28d-38ea-4be9-dcc1-283724308d41"
      },
      "outputs": [
        {
          "data": {
            "text/plain": [
              "str"
            ]
          },
          "execution_count": 3,
          "metadata": {},
          "output_type": "execute_result"
        }
      ],
      "source": [
        "type (a)"
      ]
    },
    {
      "cell_type": "code",
      "execution_count": null,
      "id": "183cfda0",
      "metadata": {
        "id": "183cfda0",
        "outputId": "c448c21f-403e-4361-ddef-75483b0d8ae0"
      },
      "outputs": [
        {
          "name": "stdout",
          "output_type": "stream",
          "text": [
            " Dunia itu bulat\n",
            "tidak mungkin kotak\n"
          ]
        }
      ],
      "source": [
        "a = \"\"\" Dunia itu bulat\n",
        "tidak mungkin kotak\"\"\"\n",
        "print(a)"
      ]
    },
    {
      "cell_type": "code",
      "execution_count": null,
      "id": "4676bfd9",
      "metadata": {
        "id": "4676bfd9",
        "outputId": "2aebca81-d04d-4585-84a6-71bfef1924fe"
      },
      "outputs": [
        {
          "data": {
            "text/plain": [
              "False"
            ]
          },
          "execution_count": 1,
          "metadata": {},
          "output_type": "execute_result"
        }
      ],
      "source": [
        "b = \"Spongebob Squarepants\"\n",
        "c = \"\"\"Spongebob Squarepants\n",
        "Rumah Nanas\n",
        "Bikini Bottom\n",
        "University of Bikini Bottom\"\"\"\n",
        "d = 50\n",
        "e = 51\n",
        "d >= e"
      ]
    },
    {
      "cell_type": "code",
      "execution_count": null,
      "id": "1c95cbc9",
      "metadata": {
        "id": "1c95cbc9",
        "outputId": "2cc2505b-23f1-4929-f439-4588f7cff712"
      },
      "outputs": [
        {
          "data": {
            "text/plain": [
              "int"
            ]
          },
          "execution_count": 9,
          "metadata": {},
          "output_type": "execute_result"
        }
      ],
      "source": [
        "type (d)"
      ]
    },
    {
      "cell_type": "code",
      "execution_count": null,
      "id": "d1f4073e",
      "metadata": {
        "id": "d1f4073e",
        "outputId": "d397f6a7-3e40-402f-8866-cdc41c10bf1e"
      },
      "outputs": [
        {
          "name": "stdout",
          "output_type": "stream",
          "text": [
            "Spongebob Squarepants\n"
          ]
        }
      ],
      "source": [
        "print (b)\n"
      ]
    },
    {
      "cell_type": "code",
      "execution_count": null,
      "id": "320f8917",
      "metadata": {
        "id": "320f8917",
        "outputId": "2c8aff2e-388c-4178-d923-6031519288e8"
      },
      "outputs": [
        {
          "name": "stdout",
          "output_type": "stream",
          "text": [
            "Spongebob Squarepants\n",
            "Rumah Nanas\n",
            "Bikini Bottom\n",
            "University of Bikini Bottom\n"
          ]
        }
      ],
      "source": [
        "print (c)"
      ]
    },
    {
      "cell_type": "code",
      "execution_count": null,
      "id": "de9faca7",
      "metadata": {
        "id": "de9faca7"
      },
      "outputs": [],
      "source": [
        "x = 'Spongebob'"
      ]
    },
    {
      "cell_type": "code",
      "execution_count": null,
      "id": "e24c6c84",
      "metadata": {
        "id": "e24c6c84",
        "outputId": "617cd9ec-cb5d-4ce2-ffcf-1047831c76ce"
      },
      "outputs": [
        {
          "data": {
            "text/plain": [
              "str"
            ]
          },
          "execution_count": 19,
          "metadata": {},
          "output_type": "execute_result"
        }
      ],
      "source": [
        "type(x)"
      ]
    },
    {
      "cell_type": "markdown",
      "id": "b27911a5",
      "metadata": {
        "id": "b27911a5"
      },
      "source": [
        "     3. Boolean (bool): a data type that has only two values, namely true or false (true or false)."
      ]
    },
    {
      "cell_type": "code",
      "execution_count": null,
      "id": "b3db3ac1",
      "metadata": {
        "id": "b3db3ac1",
        "outputId": "ed114219-ddd3-4ff1-c6aa-18d3376e65ab"
      },
      "outputs": [
        {
          "data": {
            "text/plain": [
              "False"
            ]
          },
          "execution_count": 20,
          "metadata": {},
          "output_type": "execute_result"
        }
      ],
      "source": [
        "d = 50\n",
        "e = 52\n",
        "d>e"
      ]
    },
    {
      "cell_type": "code",
      "execution_count": null,
      "id": "f20fd2d8",
      "metadata": {
        "id": "f20fd2d8",
        "outputId": "0f5c8052-03b6-434f-da49-88b3b7ff0537"
      },
      "outputs": [
        {
          "data": {
            "text/plain": [
              "True"
            ]
          },
          "execution_count": 21,
          "metadata": {},
          "output_type": "execute_result"
        }
      ],
      "source": [
        "e>d"
      ]
    }
  ],
  "metadata": {
    "kernelspec": {
      "display_name": "Python 3 (ipykernel)",
      "language": "python",
      "name": "python3"
    },
    "language_info": {
      "codemirror_mode": {
        "name": "ipython",
        "version": 3
      },
      "file_extension": ".py",
      "mimetype": "text/x-python",
      "name": "python",
      "nbconvert_exporter": "python",
      "pygments_lexer": "ipython3",
      "version": "3.9.12"
    },
    "colab": {
      "provenance": []
    }
  },
  "nbformat": 4,
  "nbformat_minor": 5
}
