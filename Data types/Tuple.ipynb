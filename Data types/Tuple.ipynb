{
 "cells": [
  {
   "cell_type": "markdown",
   "id": "a75eda27",
   "metadata": {},
   "source": [
    "# Tuple\n"
   ]
  },
  {
   "cell_type": "markdown",
   "id": "f37ed2ce",
   "metadata": {},
   "source": [
    "Tuple is a collection of objects which ordered and immutable. \n",
    "\n",
    "Tuples are sequences, just like lists. The differences between tuples and lists are, the tuples cannot be changed unlike lists and tuples use parentheses, whereas lists use square brackets."
   ]
  },
  {
   "cell_type": "code",
   "execution_count": 4,
   "id": "f5d568b4",
   "metadata": {},
   "outputs": [],
   "source": [
    "a = (2,45,66,'buku')"
   ]
  },
  {
   "cell_type": "code",
   "execution_count": 5,
   "id": "eae3f6ff",
   "metadata": {},
   "outputs": [
    {
     "data": {
      "text/plain": [
       "66"
      ]
     },
     "execution_count": 5,
     "metadata": {},
     "output_type": "execute_result"
    }
   ],
   "source": [
    "a[2]"
   ]
  },
  {
   "cell_type": "code",
   "execution_count": 6,
   "id": "6bc0b89c",
   "metadata": {},
   "outputs": [
    {
     "data": {
      "text/plain": [
       "(45, 66, 'buku')"
      ]
     },
     "execution_count": 6,
     "metadata": {},
     "output_type": "execute_result"
    }
   ],
   "source": [
    "a[1:]"
   ]
  },
  {
   "cell_type": "code",
   "execution_count": 1,
   "id": "bf7ca482",
   "metadata": {},
   "outputs": [],
   "source": [
    "data = ('Data','Scientist','Kampus Merdeka','MES')"
   ]
  },
  {
   "cell_type": "code",
   "execution_count": 2,
   "id": "f793af3b",
   "metadata": {},
   "outputs": [
    {
     "data": {
      "text/plain": [
       "'Kampus Merdeka'"
      ]
     },
     "execution_count": 2,
     "metadata": {},
     "output_type": "execute_result"
    }
   ],
   "source": [
    "data[2]"
   ]
  },
  {
   "cell_type": "code",
   "execution_count": 3,
   "id": "3269523a",
   "metadata": {},
   "outputs": [
    {
     "data": {
      "text/plain": [
       "('Scientist', 'Kampus Merdeka')"
      ]
     },
     "execution_count": 3,
     "metadata": {},
     "output_type": "execute_result"
    }
   ],
   "source": [
    "data[-3:-1]"
   ]
  },
  {
   "cell_type": "code",
   "execution_count": 4,
   "id": "1b7160d9",
   "metadata": {},
   "outputs": [
    {
     "data": {
      "text/plain": [
       "('Data', 'MES')"
      ]
     },
     "execution_count": 4,
     "metadata": {},
     "output_type": "execute_result"
    }
   ],
   "source": [
    "data[0:4:3]"
   ]
  },
  {
   "cell_type": "code",
   "execution_count": 5,
   "id": "be9c7e5b",
   "metadata": {},
   "outputs": [
    {
     "data": {
      "text/plain": [
       "('Data', 'Scientist', 'Kampus Merdeka', 'MES')"
      ]
     },
     "execution_count": 5,
     "metadata": {},
     "output_type": "execute_result"
    }
   ],
   "source": [
    "data"
   ]
  }
 ],
 "metadata": {
  "kernelspec": {
   "display_name": "Python 3 (ipykernel)",
   "language": "python",
   "name": "python3"
  },
  "language_info": {
   "codemirror_mode": {
    "name": "ipython",
    "version": 3
   },
   "file_extension": ".py",
   "mimetype": "text/x-python",
   "name": "python",
   "nbconvert_exporter": "python",
   "pygments_lexer": "ipython3",
   "version": "3.7.9"
  }
 },
 "nbformat": 4,
 "nbformat_minor": 5
}
