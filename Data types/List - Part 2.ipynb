{
 "cells": [
  {
   "cell_type": "markdown",
   "id": "f297df65",
   "metadata": {},
   "source": [
    "# Add List Items"
   ]
  },
  {
   "cell_type": "markdown",
   "id": "8f992c8d",
   "metadata": {},
   "source": [
    "append(x)\n",
    "\n",
    "Adds a single element z to the end of a list."
   ]
  },
  {
   "cell_type": "code",
   "execution_count": 1,
   "id": "9498e3a0",
   "metadata": {
    "scrolled": true
   },
   "outputs": [
    {
     "name": "stdout",
     "output_type": "stream",
     "text": [
      "[1, 2, 3, 9]\n"
     ]
    }
   ],
   "source": [
    "arr = [1,2,3]\n",
    "arr.append(9)\n",
    "print(arr)"
   ]
  },
  {
   "cell_type": "markdown",
   "id": "4c26558b",
   "metadata": {},
   "source": [
    "extend(L)\n",
    "\n",
    "Merges another list L to the end."
   ]
  },
  {
   "cell_type": "code",
   "execution_count": 2,
   "id": "9fb79c0f",
   "metadata": {},
   "outputs": [
    {
     "name": "stdout",
     "output_type": "stream",
     "text": [
      "[1, 2, 3, 9, 10, 11]\n"
     ]
    }
   ],
   "source": [
    "arr = [1,2,3,9]\n",
    "arr.extend([10,11])\n",
    "print(arr)"
   ]
  },
  {
   "cell_type": "markdown",
   "id": "a50590d3",
   "metadata": {},
   "source": [
    "insert(i,x)\n",
    "\n",
    "Insert element z at position i."
   ]
  },
  {
   "cell_type": "code",
   "execution_count": 3,
   "id": "d129c1c6",
   "metadata": {},
   "outputs": [
    {
     "name": "stdout",
     "output_type": "stream",
     "text": [
      "[1, 2, 3, 7, 9, 10, 11]\n"
     ]
    }
   ],
   "source": [
    "arr = [1, 2, 3, 9, 10, 11]\n",
    "arr.insert(3,7)\n",
    "print(arr)"
   ]
  },
  {
   "cell_type": "markdown",
   "id": "2268be91",
   "metadata": {},
   "source": [
    "# Quiz"
   ]
  },
  {
   "cell_type": "code",
   "execution_count": 6,
   "id": "5abf3fd1",
   "metadata": {},
   "outputs": [
    {
     "name": "stdout",
     "output_type": "stream",
     "text": [
      "[5, 10, 12, 2.8, 6.7, 9.5, True, (5+3j), 'kelompok 2', 'MyEduSolve', 'Kampus Merdeka']\n"
     ]
    }
   ],
   "source": [
    "b = [5, 10, 12, 2.8, 6.7, 9.5, 13 >= 9, 5+3j, \"kelompok 2\",\"MyEduSolve\"]\n",
    "b.append(\"Kampus Merdeka\")\n",
    "print(b)"
   ]
  },
  {
   "cell_type": "code",
   "execution_count": 7,
   "id": "ea513ba9",
   "metadata": {},
   "outputs": [
    {
     "name": "stdout",
     "output_type": "stream",
     "text": [
      "[5, 10, 12, 2.8, 6.7, 9.5, True, (5+3j), 'kelompok 2', 'MyEduSolve', 20, 22]\n"
     ]
    }
   ],
   "source": [
    "b = [5, 10, 12, 2.8, 6.7, 9.5, 13 >= 9, 5+3j, \"kelompok 2\",\"MyEduSolve\"]\n",
    "b.extend([20,22])\n",
    "print(b)"
   ]
  },
  {
   "cell_type": "code",
   "execution_count": 15,
   "id": "f2ebd8f9",
   "metadata": {},
   "outputs": [],
   "source": [
    "b = [5, 10, 12, 2.8, 6.7, 9.5, True, (5+3j), 'kelompok 2', 'MyEduSolve', 20, 22]\n",
    "b.insert(2,8)"
   ]
  },
  {
   "cell_type": "markdown",
   "id": "69b9f01f",
   "metadata": {},
   "source": [
    "# Remove List Items"
   ]
  },
  {
   "cell_type": "markdown",
   "id": "00062c74",
   "metadata": {},
   "source": [
    "del\n",
    "\n",
    "To removes the specified index."
   ]
  },
  {
   "cell_type": "code",
   "execution_count": 7,
   "id": "d62e746e",
   "metadata": {},
   "outputs": [
    {
     "name": "stdout",
     "output_type": "stream",
     "text": [
      "[1, 3, 7, 9, 10, 11]\n"
     ]
    }
   ],
   "source": [
    "arr = [1, 2, 3, 7, 9, 10, 11]\n",
    "del arr[1]\n",
    "print(arr)"
   ]
  },
  {
   "cell_type": "markdown",
   "id": "2c06d26a",
   "metadata": {},
   "source": [
    "remove(x)\n",
    "\n",
    "Removes the first occurence of element x."
   ]
  },
  {
   "cell_type": "code",
   "execution_count": 4,
   "id": "f636e678",
   "metadata": {},
   "outputs": [
    {
     "name": "stdout",
     "output_type": "stream",
     "text": [
      "[1, 2, 3, 7, 10, 11]\n"
     ]
    }
   ],
   "source": [
    "arr = [1, 2, 3, 7, 9, 10, 11]\n",
    "arr.remove(9)\n",
    "print(arr)"
   ]
  },
  {
   "cell_type": "markdown",
   "id": "e5515248",
   "metadata": {},
   "source": [
    "pop()\n",
    "\n",
    "Removes the last element of a list. If argument is passed that index item is popped out."
   ]
  },
  {
   "cell_type": "code",
   "execution_count": 5,
   "id": "0b1ede19",
   "metadata": {},
   "outputs": [
    {
     "data": {
      "text/plain": [
       "11"
      ]
     },
     "execution_count": 5,
     "metadata": {},
     "output_type": "execute_result"
    }
   ],
   "source": [
    "arr.pop()"
   ]
  },
  {
   "cell_type": "code",
   "execution_count": 6,
   "id": "1bc1dbfe",
   "metadata": {},
   "outputs": [
    {
     "name": "stdout",
     "output_type": "stream",
     "text": [
      "[1, 2, 3, 7, 10]\n"
     ]
    }
   ],
   "source": [
    "print(arr)"
   ]
  },
  {
   "cell_type": "markdown",
   "id": "0d29f579",
   "metadata": {},
   "source": [
    "# Index & Count List"
   ]
  },
  {
   "cell_type": "markdown",
   "id": "fe16165e",
   "metadata": {},
   "source": [
    "index(x)\n",
    "\n",
    "Returns the firts index of a value in the list. Throws on if it's not found."
   ]
  },
  {
   "cell_type": "code",
   "execution_count": 5,
   "id": "7bd91415",
   "metadata": {
    "scrolled": true
   },
   "outputs": [
    {
     "data": {
      "text/plain": [
       "4"
      ]
     },
     "execution_count": 5,
     "metadata": {},
     "output_type": "execute_result"
    }
   ],
   "source": [
    "arr = [1, 2, 3, 7, 9, 10, 11]\n",
    "arr.index(9)"
   ]
  },
  {
   "cell_type": "markdown",
   "id": "0e4015c3",
   "metadata": {},
   "source": [
    "count(x)\n",
    "\n",
    "Counts the number of occurences of an element x."
   ]
  },
  {
   "cell_type": "code",
   "execution_count": 4,
   "id": "09a53c2c",
   "metadata": {},
   "outputs": [
    {
     "data": {
      "text/plain": [
       "3"
      ]
     },
     "execution_count": 4,
     "metadata": {},
     "output_type": "execute_result"
    }
   ],
   "source": [
    "a = [2,1,1,1,3,5,4]\n",
    "a.count(1)"
   ]
  },
  {
   "cell_type": "code",
   "execution_count": 35,
   "id": "ca07383e",
   "metadata": {},
   "outputs": [
    {
     "data": {
      "text/plain": [
       "1"
      ]
     },
     "execution_count": 35,
     "metadata": {},
     "output_type": "execute_result"
    }
   ],
   "source": [
    "a.index(1)"
   ]
  },
  {
   "cell_type": "markdown",
   "id": "2c8638b6",
   "metadata": {},
   "source": [
    "# Sort List Items"
   ]
  },
  {
   "cell_type": "markdown",
   "id": "c49277fd",
   "metadata": {},
   "source": [
    "sort()"
   ]
  },
  {
   "cell_type": "markdown",
   "id": "690132df",
   "metadata": {},
   "source": [
    "sorts the list\n",
    "by default (ascending)"
   ]
  },
  {
   "cell_type": "code",
   "execution_count": 1,
   "id": "aa1b25df",
   "metadata": {},
   "outputs": [
    {
     "name": "stdout",
     "output_type": "stream",
     "text": [
      "[1, 1, 1, 2, 3, 4, 5]\n"
     ]
    }
   ],
   "source": [
    "a = [2,1,1,1,3,5,4]\n",
    "a.sort()\n",
    "print(a)"
   ]
  },
  {
   "cell_type": "markdown",
   "id": "9668ffae",
   "metadata": {},
   "source": [
    "To sort descending, use the keyword argument reverse = True."
   ]
  },
  {
   "cell_type": "code",
   "execution_count": 2,
   "id": "a863637d",
   "metadata": {},
   "outputs": [
    {
     "name": "stdout",
     "output_type": "stream",
     "text": [
      "[5, 4, 3, 2, 1, 1, 1]\n"
     ]
    }
   ],
   "source": [
    "a = [2,1,1,1,3,5,4]\n",
    "a.sort(reverse=True)\n",
    "print(a)"
   ]
  },
  {
   "cell_type": "markdown",
   "id": "dd398493",
   "metadata": {},
   "source": [
    "reverse()"
   ]
  },
  {
   "cell_type": "markdown",
   "id": "acdb421c",
   "metadata": {},
   "source": [
    " method reverses the current sorting order of the elements."
   ]
  },
  {
   "cell_type": "code",
   "execution_count": 3,
   "id": "58f4d190",
   "metadata": {},
   "outputs": [
    {
     "name": "stdout",
     "output_type": "stream",
     "text": [
      "[4, 5, 3, 1, 1, 1, 2]\n"
     ]
    }
   ],
   "source": [
    "a = [2,1,1,1,3,5,4]\n",
    "a.reverse()\n",
    "print(a)"
   ]
  },
  {
   "cell_type": "markdown",
   "id": "668160c0",
   "metadata": {},
   "source": [
    "# Quiz"
   ]
  },
  {
   "cell_type": "code",
   "execution_count": 9,
   "id": "09d91b37",
   "metadata": {},
   "outputs": [
    {
     "name": "stdout",
     "output_type": "stream",
     "text": [
      "[1, 2, 6, 9, 8, 9, 7, 9, 15]\n"
     ]
    }
   ],
   "source": [
    "b = [1,2,6,9,10,8,9,7,9,15]\n",
    "b.remove(10)\n",
    "print(b)"
   ]
  },
  {
   "cell_type": "code",
   "execution_count": 10,
   "id": "3ecd8878",
   "metadata": {},
   "outputs": [
    {
     "data": {
      "text/plain": [
       "15"
      ]
     },
     "execution_count": 10,
     "metadata": {},
     "output_type": "execute_result"
    }
   ],
   "source": [
    "b = [1, 2, 6, 9, 8, 9, 7, 9, 15]\n",
    "b.pop()"
   ]
  },
  {
   "cell_type": "code",
   "execution_count": 11,
   "id": "2c00f2e1",
   "metadata": {},
   "outputs": [
    {
     "name": "stdout",
     "output_type": "stream",
     "text": [
      "[1, 6, 9, 8, 9, 7, 9, 15]\n"
     ]
    }
   ],
   "source": [
    "b = [1, 2, 6, 9, 8, 9, 7, 9, 15]\n",
    "del b[1]\n",
    "print(b)"
   ]
  },
  {
   "cell_type": "code",
   "execution_count": 12,
   "id": "a48935f3",
   "metadata": {},
   "outputs": [
    {
     "data": {
      "text/plain": [
       "3"
      ]
     },
     "execution_count": 12,
     "metadata": {},
     "output_type": "execute_result"
    }
   ],
   "source": [
    "b = [1, 6, 9, 8, 9, 7, 9, 15]\n",
    "b.index(8)"
   ]
  },
  {
   "cell_type": "code",
   "execution_count": 13,
   "id": "ccb56e2c",
   "metadata": {},
   "outputs": [
    {
     "data": {
      "text/plain": [
       "3"
      ]
     },
     "execution_count": 13,
     "metadata": {},
     "output_type": "execute_result"
    }
   ],
   "source": [
    "b = [1, 6, 9, 8, 9, 7, 9, 15]\n",
    "b.count(9)"
   ]
  },
  {
   "cell_type": "code",
   "execution_count": 14,
   "id": "8e751043",
   "metadata": {},
   "outputs": [
    {
     "data": {
      "text/plain": [
       "[1, 6, 9, 8, 9, 7, 9, 15]"
      ]
     },
     "execution_count": 14,
     "metadata": {},
     "output_type": "execute_result"
    }
   ],
   "source": [
    "b"
   ]
  },
  {
   "cell_type": "code",
   "execution_count": 15,
   "id": "a45ac849",
   "metadata": {},
   "outputs": [
    {
     "name": "stdout",
     "output_type": "stream",
     "text": [
      "[1, 6, 7, 8, 9, 9, 9, 15]\n"
     ]
    }
   ],
   "source": [
    "b.sort()\n",
    "print(b)"
   ]
  },
  {
   "cell_type": "code",
   "execution_count": 16,
   "id": "cbcb60f4",
   "metadata": {},
   "outputs": [
    {
     "name": "stdout",
     "output_type": "stream",
     "text": [
      "[15, 9, 9, 9, 8, 7, 6, 1]\n"
     ]
    }
   ],
   "source": [
    "b.sort(reverse=True)\n",
    "print(b)"
   ]
  },
  {
   "cell_type": "code",
   "execution_count": 17,
   "id": "9ad3e7cb",
   "metadata": {},
   "outputs": [
    {
     "name": "stdout",
     "output_type": "stream",
     "text": [
      "[1, 6, 7, 8, 9, 9, 9, 15]\n"
     ]
    }
   ],
   "source": [
    "b.reverse()\n",
    "print(b)"
   ]
  }
 ],
 "metadata": {
  "kernelspec": {
   "display_name": "Python 3 (ipykernel)",
   "language": "python",
   "name": "python3"
  },
  "language_info": {
   "codemirror_mode": {
    "name": "ipython",
    "version": 3
   },
   "file_extension": ".py",
   "mimetype": "text/x-python",
   "name": "python",
   "nbconvert_exporter": "python",
   "pygments_lexer": "ipython3",
   "version": "3.9.7"
  }
 },
 "nbformat": 4,
 "nbformat_minor": 5
}
