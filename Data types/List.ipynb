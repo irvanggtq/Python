{
 "cells": [
  {
   "cell_type": "markdown",
   "id": "719c4a87",
   "metadata": {},
   "source": [
    "# List\n",
    "\n",
    "List items are ordered, changeable, not have to get the same data type, and allow duplicate values.\n",
    "\n",
    "in python order starts 0 first."
   ]
  },
  {
   "cell_type": "code",
   "execution_count": 10,
   "id": "c202e427",
   "metadata": {},
   "outputs": [],
   "source": [
    "a = [5, 6.7, \"delapan\"]"
   ]
  },
  {
   "cell_type": "code",
   "execution_count": 2,
   "id": "204c5c3f",
   "metadata": {},
   "outputs": [
    {
     "data": {
      "text/plain": [
       "5"
      ]
     },
     "execution_count": 2,
     "metadata": {},
     "output_type": "execute_result"
    }
   ],
   "source": [
    "a[0]"
   ]
  },
  {
   "cell_type": "code",
   "execution_count": 3,
   "id": "002c6d66",
   "metadata": {},
   "outputs": [
    {
     "data": {
      "text/plain": [
       "'delapan'"
      ]
     },
     "execution_count": 3,
     "metadata": {},
     "output_type": "execute_result"
    }
   ],
   "source": [
    "a[2]"
   ]
  },
  {
   "cell_type": "markdown",
   "id": "cb035589",
   "metadata": {},
   "source": [
    "type()\n",
    "\n",
    "A list can contain different data types. To return the data type can use type()."
   ]
  },
  {
   "cell_type": "code",
   "execution_count": 4,
   "id": "d951c3d9",
   "metadata": {},
   "outputs": [
    {
     "data": {
      "text/plain": [
       "float"
      ]
     },
     "execution_count": 4,
     "metadata": {},
     "output_type": "execute_result"
    }
   ],
   "source": [
    "type(a[1])"
   ]
  },
  {
   "cell_type": "code",
   "execution_count": 5,
   "id": "f6d0ad10",
   "metadata": {},
   "outputs": [
    {
     "data": {
      "text/plain": [
       "str"
      ]
     },
     "execution_count": 5,
     "metadata": {},
     "output_type": "execute_result"
    }
   ],
   "source": [
    "type(a[2])"
   ]
  },
  {
   "cell_type": "code",
   "execution_count": 2,
   "id": "7ad97abd",
   "metadata": {},
   "outputs": [
    {
     "data": {
      "text/plain": [
       "'delapan'"
      ]
     },
     "execution_count": 2,
     "metadata": {},
     "output_type": "execute_result"
    }
   ],
   "source": [
    "a[-1]"
   ]
  },
  {
   "cell_type": "code",
   "execution_count": 3,
   "id": "f1e6b2c3",
   "metadata": {},
   "outputs": [
    {
     "data": {
      "text/plain": [
       "6.7"
      ]
     },
     "execution_count": 3,
     "metadata": {},
     "output_type": "execute_result"
    }
   ],
   "source": [
    "a[-2]"
   ]
  },
  {
   "cell_type": "code",
   "execution_count": 4,
   "id": "145c52b0",
   "metadata": {},
   "outputs": [],
   "source": [
    "b = [10, 2.8, 13 >= 9, \"kelompok 2\", 5+3j]"
   ]
  },
  {
   "cell_type": "code",
   "execution_count": 5,
   "id": "f3f7224b",
   "metadata": {},
   "outputs": [
    {
     "data": {
      "text/plain": [
       "'kelompok 2'"
      ]
     },
     "execution_count": 5,
     "metadata": {},
     "output_type": "execute_result"
    }
   ],
   "source": [
    "b[3]"
   ]
  },
  {
   "cell_type": "code",
   "execution_count": 6,
   "id": "6d046cdd",
   "metadata": {},
   "outputs": [
    {
     "data": {
      "text/plain": [
       "(5+3j)"
      ]
     },
     "execution_count": 6,
     "metadata": {},
     "output_type": "execute_result"
    }
   ],
   "source": [
    "b[-1]"
   ]
  },
  {
   "cell_type": "code",
   "execution_count": 7,
   "id": "58e29d67",
   "metadata": {},
   "outputs": [
    {
     "data": {
      "text/plain": [
       "True"
      ]
     },
     "execution_count": 7,
     "metadata": {},
     "output_type": "execute_result"
    }
   ],
   "source": [
    "b[-3]"
   ]
  },
  {
   "cell_type": "code",
   "execution_count": 9,
   "id": "e1f19951",
   "metadata": {},
   "outputs": [
    {
     "data": {
      "text/plain": [
       "float"
      ]
     },
     "execution_count": 9,
     "metadata": {},
     "output_type": "execute_result"
    }
   ],
   "source": [
    "type(b[1])"
   ]
  },
  {
   "cell_type": "markdown",
   "id": "7bc767e3",
   "metadata": {},
   "source": [
    "# Range of Indexes\n",
    "\n",
    "To specify a range of indexes by specifying where to start and where to end the range. When specifying a range, the return value will be a new list with the specified items."
   ]
  },
  {
   "cell_type": "code",
   "execution_count": 2,
   "id": "4dda0033",
   "metadata": {},
   "outputs": [],
   "source": [
    "a = [5, 6.7, \"delapan\"]"
   ]
  },
  {
   "cell_type": "code",
   "execution_count": 12,
   "id": "3a5b8353",
   "metadata": {},
   "outputs": [
    {
     "data": {
      "text/plain": [
       "[5, 6.7]"
      ]
     },
     "execution_count": 12,
     "metadata": {},
     "output_type": "execute_result"
    }
   ],
   "source": [
    "a[0:2]"
   ]
  },
  {
   "cell_type": "markdown",
   "id": "5ef5af9a",
   "metadata": {},
   "source": [
    "# Range of Negative Indexes\n",
    "\n",
    "To start the search from the end of the list, can use specify negative indexes."
   ]
  },
  {
   "cell_type": "code",
   "execution_count": 5,
   "id": "8aeacd12",
   "metadata": {},
   "outputs": [
    {
     "data": {
      "text/plain": [
       "[5, 6.7]"
      ]
     },
     "execution_count": 5,
     "metadata": {},
     "output_type": "execute_result"
    }
   ],
   "source": [
    "a[-3:-1]"
   ]
  },
  {
   "cell_type": "code",
   "execution_count": 13,
   "id": "687fac62",
   "metadata": {},
   "outputs": [
    {
     "data": {
      "text/plain": [
       "[5]"
      ]
     },
     "execution_count": 13,
     "metadata": {},
     "output_type": "execute_result"
    }
   ],
   "source": [
    "a[0:1]"
   ]
  },
  {
   "cell_type": "code",
   "execution_count": 34,
   "id": "9883054c",
   "metadata": {},
   "outputs": [
    {
     "data": {
      "text/plain": [
       "[5, 6.7, 'delapan']"
      ]
     },
     "execution_count": 34,
     "metadata": {},
     "output_type": "execute_result"
    }
   ],
   "source": [
    "a[0:3]"
   ]
  },
  {
   "cell_type": "markdown",
   "id": "13a67e6d",
   "metadata": {},
   "source": [
    "To returns elements ranging from the first index can empty index in the first parameter"
   ]
  },
  {
   "cell_type": "code",
   "execution_count": 15,
   "id": "af5ddaf2",
   "metadata": {},
   "outputs": [
    {
     "data": {
      "text/plain": [
       "[5, 6.7]"
      ]
     },
     "execution_count": 15,
     "metadata": {},
     "output_type": "execute_result"
    }
   ],
   "source": [
    "a[:2]"
   ]
  },
  {
   "cell_type": "markdown",
   "id": "212e2850",
   "metadata": {},
   "source": [
    "To return the last item can empty index in the last parameter and use negative index"
   ]
  },
  {
   "cell_type": "code",
   "execution_count": 16,
   "id": "7af78a5e",
   "metadata": {},
   "outputs": [
    {
     "data": {
      "text/plain": [
       "['delapan']"
      ]
     },
     "execution_count": 16,
     "metadata": {},
     "output_type": "execute_result"
    }
   ],
   "source": [
    "a[-1:]"
   ]
  },
  {
   "cell_type": "code",
   "execution_count": 17,
   "id": "0c290c9b",
   "metadata": {},
   "outputs": [
    {
     "data": {
      "text/plain": [
       "[6.7, 'delapan']"
      ]
     },
     "execution_count": 17,
     "metadata": {},
     "output_type": "execute_result"
    }
   ],
   "source": [
    "a[-2:]"
   ]
  },
  {
   "cell_type": "code",
   "execution_count": 18,
   "id": "64ecbe66",
   "metadata": {},
   "outputs": [
    {
     "data": {
      "text/plain": [
       "[5, 6.7, 'delapan']"
      ]
     },
     "execution_count": 18,
     "metadata": {},
     "output_type": "execute_result"
    }
   ],
   "source": [
    "a[-4:]"
   ]
  },
  {
   "cell_type": "code",
   "execution_count": 19,
   "id": "73eccdf0",
   "metadata": {},
   "outputs": [
    {
     "data": {
      "text/plain": [
       "[5, 6.7, 'delapan']"
      ]
     },
     "execution_count": 19,
     "metadata": {},
     "output_type": "execute_result"
    }
   ],
   "source": [
    "a[-3:]"
   ]
  },
  {
   "cell_type": "markdown",
   "id": "544ef4c4",
   "metadata": {},
   "source": [
    "# Quiz"
   ]
  },
  {
   "cell_type": "code",
   "execution_count": 1,
   "id": "6c521804",
   "metadata": {},
   "outputs": [],
   "source": [
    "b = [5, 10, 12, 2.8, 6.7, 9.5, 13 >= 9, 5+3j, \"kelompok 2\",\"MyEduSolve\"]"
   ]
  },
  {
   "cell_type": "code",
   "execution_count": 2,
   "id": "70ca972b",
   "metadata": {},
   "outputs": [
    {
     "data": {
      "text/plain": [
       "[12, 2.8, 6.7]"
      ]
     },
     "execution_count": 2,
     "metadata": {},
     "output_type": "execute_result"
    }
   ],
   "source": [
    "b[2:5]"
   ]
  },
  {
   "cell_type": "code",
   "execution_count": 25,
   "id": "29d526ea",
   "metadata": {},
   "outputs": [
    {
     "data": {
      "text/plain": [
       "[5, 10, 12, 2.8, 6.7]"
      ]
     },
     "execution_count": 25,
     "metadata": {},
     "output_type": "execute_result"
    }
   ],
   "source": [
    "b[0:5]"
   ]
  },
  {
   "cell_type": "code",
   "execution_count": 26,
   "id": "f3c21149",
   "metadata": {},
   "outputs": [
    {
     "data": {
      "text/plain": [
       "[12, 2.8, 6.7, 9.5]"
      ]
     },
     "execution_count": 26,
     "metadata": {},
     "output_type": "execute_result"
    }
   ],
   "source": [
    "b[2:6]"
   ]
  },
  {
   "cell_type": "code",
   "execution_count": 27,
   "id": "74cfa273",
   "metadata": {},
   "outputs": [
    {
     "data": {
      "text/plain": [
       "[5, 10, 12]"
      ]
     },
     "execution_count": 27,
     "metadata": {},
     "output_type": "execute_result"
    }
   ],
   "source": [
    "b[:3]"
   ]
  },
  {
   "cell_type": "code",
   "execution_count": 3,
   "id": "370a1d86",
   "metadata": {},
   "outputs": [
    {
     "data": {
      "text/plain": [
       "['MyEduSolve']"
      ]
     },
     "execution_count": 3,
     "metadata": {},
     "output_type": "execute_result"
    }
   ],
   "source": [
    "b = [5, 10, 12, 2.8, 6.7, 9.5, 13 >= 9, 5+3j, \"kelompok 2\",\"MyEduSolve\"]\n",
    "b[-1:]"
   ]
  },
  {
   "cell_type": "code",
   "execution_count": 29,
   "id": "d866818a",
   "metadata": {},
   "outputs": [
    {
     "data": {
      "text/plain": [
       "['kelompok 2', 'MyEduSolve']"
      ]
     },
     "execution_count": 29,
     "metadata": {},
     "output_type": "execute_result"
    }
   ],
   "source": [
    "b[8:10]"
   ]
  },
  {
   "cell_type": "code",
   "execution_count": 30,
   "id": "e9738558",
   "metadata": {},
   "outputs": [],
   "source": [
    "c = [6,7,8,9,10,11,12,13]"
   ]
  },
  {
   "cell_type": "code",
   "execution_count": 31,
   "id": "58def976",
   "metadata": {},
   "outputs": [
    {
     "data": {
      "text/plain": [
       "[6, 7, 8, 9, 10, 11, 12, 13]"
      ]
     },
     "execution_count": 31,
     "metadata": {},
     "output_type": "execute_result"
    }
   ],
   "source": [
    "c[0:8]"
   ]
  },
  {
   "cell_type": "markdown",
   "id": "130e117b",
   "metadata": {},
   "source": [
    "# Range of Indexes with 3 Paramters\n",
    "\n",
    "- parameter 1 (start): An index specifying at which position to start (included).\n",
    "- parameter 2 (stop) : An index specifying at which position to stop (not included).\n",
    "- parameter 3 (step) : An integer number specifying the incrementation."
   ]
  },
  {
   "cell_type": "code",
   "execution_count": 4,
   "id": "04fb3fea",
   "metadata": {},
   "outputs": [
    {
     "data": {
      "text/plain": [
       "[6, 8, 10, 12]"
      ]
     },
     "execution_count": 4,
     "metadata": {},
     "output_type": "execute_result"
    }
   ],
   "source": [
    "c = [6,7,8,9,10,11,12,13]\n",
    "c[0:8:2]"
   ]
  },
  {
   "cell_type": "markdown",
   "id": "d56226ef",
   "metadata": {},
   "source": [
    "# List Length\n",
    "\n",
    "To determine how many items a list has, use the len() function."
   ]
  },
  {
   "cell_type": "code",
   "execution_count": 38,
   "id": "f28410bd",
   "metadata": {},
   "outputs": [],
   "source": [
    "c = [6,7,8,9,10,11,12,13,14,15]"
   ]
  },
  {
   "cell_type": "code",
   "execution_count": 5,
   "id": "0ca5a199",
   "metadata": {},
   "outputs": [
    {
     "data": {
      "text/plain": [
       "10"
      ]
     },
     "execution_count": 5,
     "metadata": {},
     "output_type": "execute_result"
    }
   ],
   "source": [
    "c = [6,7,8,9,10,11,12,13,14,15]\n",
    "len(c)"
   ]
  },
  {
   "cell_type": "markdown",
   "id": "e05647c9",
   "metadata": {},
   "source": [
    "# Replace\n",
    "\n",
    "To change or replace the value of a specific item, refer to the index number."
   ]
  },
  {
   "cell_type": "code",
   "execution_count": 6,
   "id": "82199044",
   "metadata": {},
   "outputs": [
    {
     "name": "stdout",
     "output_type": "stream",
     "text": [
      "[1, 7, 8, 9, 10, 11, 12, 13, 14, 15]\n"
     ]
    }
   ],
   "source": [
    "c = [6,7,8,9,10,11,12,13,14,15]\n",
    "c[0] = 1\n",
    "print(c)"
   ]
  },
  {
   "cell_type": "markdown",
   "id": "3e7c17f6",
   "metadata": {},
   "source": [
    "# Quiz"
   ]
  },
  {
   "cell_type": "code",
   "execution_count": 7,
   "id": "912d929d",
   "metadata": {},
   "outputs": [
    {
     "data": {
      "text/plain": [
       "[10, 2.8, 9.5, (5+3j)]"
      ]
     },
     "execution_count": 7,
     "metadata": {},
     "output_type": "execute_result"
    }
   ],
   "source": [
    "x = [5, 10, 12, 2.8, 6.7, 9.5, 13 >= 9, 5+3j, \"kelompok 2\",\"MyEduSolve\"]\n",
    "x[1:9:2]"
   ]
  },
  {
   "cell_type": "code",
   "execution_count": 8,
   "id": "522eebe9",
   "metadata": {},
   "outputs": [
    {
     "data": {
      "text/plain": [
       "10"
      ]
     },
     "execution_count": 8,
     "metadata": {},
     "output_type": "execute_result"
    }
   ],
   "source": [
    "x = [5, 10, 12, 2.8, 6.7, 9.5, 13 >= 9, 5+3j, \"kelompok 2\",\"MyEduSolve\"]\n",
    "len(x)"
   ]
  },
  {
   "cell_type": "code",
   "execution_count": 9,
   "id": "571be49d",
   "metadata": {},
   "outputs": [
    {
     "data": {
      "text/plain": [
       "10"
      ]
     },
     "execution_count": 9,
     "metadata": {},
     "output_type": "execute_result"
    }
   ],
   "source": [
    "x[2] = 15\n",
    "len(x)"
   ]
  },
  {
   "cell_type": "code",
   "execution_count": 10,
   "id": "15d3b5eb",
   "metadata": {},
   "outputs": [
    {
     "name": "stdout",
     "output_type": "stream",
     "text": [
      "[5, 10, 15, 2.8, 6.7, 9.5, True, (5+3j), 'kelompok 2', 'MyEduSolve']\n"
     ]
    }
   ],
   "source": [
    "print(x)"
   ]
  }
 ],
 "metadata": {
  "kernelspec": {
   "display_name": "Python 3 (ipykernel)",
   "language": "python",
   "name": "python3"
  },
  "language_info": {
   "codemirror_mode": {
    "name": "ipython",
    "version": 3
   },
   "file_extension": ".py",
   "mimetype": "text/x-python",
   "name": "python",
   "nbconvert_exporter": "python",
   "pygments_lexer": "ipython3",
   "version": "3.9.7"
  }
 },
 "nbformat": 4,
 "nbformat_minor": 5
}
