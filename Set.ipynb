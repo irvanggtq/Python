{
 "cells": [
  {
   "cell_type": "markdown",
   "id": "58aeb28e",
   "metadata": {},
   "source": [
    "# SET"
   ]
  },
  {
   "cell_type": "markdown",
   "id": "21a855c1",
   "metadata": {},
   "source": [
    "A set is an unordered collection of items. Every set element is unique (no duplicates) and must be immutable (cannot be changed).\n",
    "\n",
    "However, a set itself is mutable. We can add or remove items from it.\n",
    "Sets can also be used to perform mathematical set operations like union, intersection, symmetric difference, etc.\n"
   ]
  },
  {
   "cell_type": "code",
   "execution_count": 8,
   "id": "0e3c140b",
   "metadata": {},
   "outputs": [],
   "source": [
    "data = {3,3,3,7,7,7,6,6,6,12,1}"
   ]
  },
  {
   "cell_type": "code",
   "execution_count": 9,
   "id": "6632d0db",
   "metadata": {},
   "outputs": [],
   "source": [
    "data.add(13)"
   ]
  },
  {
   "cell_type": "code",
   "execution_count": 6,
   "id": "d7ec0ecc",
   "metadata": {},
   "outputs": [],
   "source": [
    "data.remove(13)"
   ]
  },
  {
   "cell_type": "code",
   "execution_count": 7,
   "id": "9916f765",
   "metadata": {},
   "outputs": [
    {
     "data": {
      "text/plain": [
       "{1, 3, 6, 7, 12}"
      ]
     },
     "execution_count": 7,
     "metadata": {},
     "output_type": "execute_result"
    }
   ],
   "source": [
    "data"
   ]
  },
  {
   "cell_type": "code",
   "execution_count": 3,
   "id": "623eaf6a",
   "metadata": {},
   "outputs": [],
   "source": [
    "data2 = {2,3,5,1}"
   ]
  },
  {
   "cell_type": "code",
   "execution_count": 4,
   "id": "37323987",
   "metadata": {},
   "outputs": [
    {
     "data": {
      "text/plain": [
       "{1, 2, 3, 5, 6, 7, 12}"
      ]
     },
     "execution_count": 4,
     "metadata": {},
     "output_type": "execute_result"
    }
   ],
   "source": [
    "data.union(data2)"
   ]
  },
  {
   "cell_type": "code",
   "execution_count": 6,
   "id": "1b717c79",
   "metadata": {},
   "outputs": [
    {
     "data": {
      "text/plain": [
       "{1, 3}"
      ]
     },
     "execution_count": 6,
     "metadata": {},
     "output_type": "execute_result"
    }
   ],
   "source": [
    "data.intersection(data2)"
   ]
  }
 ],
 "metadata": {
  "kernelspec": {
   "display_name": "Python 3 (ipykernel)",
   "language": "python",
   "name": "python3"
  },
  "language_info": {
   "codemirror_mode": {
    "name": "ipython",
    "version": 3
   },
   "file_extension": ".py",
   "mimetype": "text/x-python",
   "name": "python",
   "nbconvert_exporter": "python",
   "pygments_lexer": "ipython3",
   "version": "3.7.9"
  }
 },
 "nbformat": 4,
 "nbformat_minor": 5
}
