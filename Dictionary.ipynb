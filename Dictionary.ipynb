{
 "cells": [
  {
   "cell_type": "markdown",
   "id": "63e7d863",
   "metadata": {},
   "source": [
    "# Dictionary"
   ]
  },
  {
   "cell_type": "markdown",
   "id": "536e3c24",
   "metadata": {},
   "source": [
    "Python dictionary is an unordered collection of items. Each item of a dictionary has a key/value pair.\n",
    "\n",
    "Dictionaries are optimized to retrieve values when the key is known.\n"
   ]
  },
  {
   "cell_type": "code",
   "execution_count": 15,
   "id": "dc4b18aa",
   "metadata": {},
   "outputs": [],
   "source": [
    "data = {\n",
    "    'Name' : 'irvanggtq', \n",
    "    'Age' : 20\n",
    "    }"
   ]
  },
  {
   "cell_type": "code",
   "execution_count": 16,
   "id": "73c2d6ad",
   "metadata": {},
   "outputs": [
    {
     "data": {
      "text/plain": [
       "'irvanggtq'"
      ]
     },
     "execution_count": 16,
     "metadata": {},
     "output_type": "execute_result"
    }
   ],
   "source": [
    "data['Name']"
   ]
  },
  {
   "cell_type": "markdown",
   "id": "be8664b8",
   "metadata": {},
   "source": [
    "# Nested Dictionary"
   ]
  },
  {
   "cell_type": "markdown",
   "id": "bb186d56",
   "metadata": {},
   "source": [
    "Nested dictionary is a dictionary inside a dictionary. It's a collection of dictionaries into one single dictionary."
   ]
  },
  {
   "cell_type": "code",
   "execution_count": 17,
   "id": "82e1511d",
   "metadata": {},
   "outputs": [],
   "source": [
    "data = {1 : {'Name' : 'irvanggtq', 'Age' : 20},\n",
    "        2 : {'Name' : 'jaza', 'Age' : 20},\n",
    "        3 : {'Name' : 'rizal', 'Age' : 20},\n",
    "        4 : {'Name' : 'risma', 'Age' : 20},\n",
    "        4 : {'Name' : 'shafira', 'Age' : 20}\n",
    "       }"
   ]
  },
  {
   "cell_type": "code",
   "execution_count": 18,
   "id": "69e40286",
   "metadata": {},
   "outputs": [
    {
     "name": "stdout",
     "output_type": "stream",
     "text": [
      "irvanggtq\n"
     ]
    }
   ],
   "source": [
    "print(data[1]['Name'])"
   ]
  }
 ],
 "metadata": {
  "kernelspec": {
   "display_name": "Python 3 (ipykernel)",
   "language": "python",
   "name": "python3"
  },
  "language_info": {
   "codemirror_mode": {
    "name": "ipython",
    "version": 3
   },
   "file_extension": ".py",
   "mimetype": "text/x-python",
   "name": "python",
   "nbconvert_exporter": "python",
   "pygments_lexer": "ipython3",
   "version": "3.7.9"
  }
 },
 "nbformat": 4,
 "nbformat_minor": 5
}
