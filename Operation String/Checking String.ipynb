{
 "cells": [
  {
   "cell_type": "markdown",
   "id": "88806a04",
   "metadata": {},
   "source": [
    "# Check String on Python"
   ]
  },
  {
   "cell_type": "markdown",
   "id": "84bbc799",
   "metadata": {},
   "source": [
    "The isupper() method returns True if all the characters are in upper case, otherwise False.\n",
    "Numbers, symbols and spaces are not checked, only alphabet characters."
   ]
  },
  {
   "cell_type": "code",
   "execution_count": 4,
   "id": "7b27662c",
   "metadata": {},
   "outputs": [],
   "source": [
    "a = \"DATA SCIENCE\""
   ]
  },
  {
   "cell_type": "code",
   "execution_count": 5,
   "id": "55ba210b",
   "metadata": {},
   "outputs": [
    {
     "data": {
      "text/plain": [
       "True"
      ]
     },
     "execution_count": 5,
     "metadata": {},
     "output_type": "execute_result"
    }
   ],
   "source": [
    "a.isupper()"
   ]
  },
  {
   "cell_type": "code",
   "execution_count": 6,
   "id": "83491b2d",
   "metadata": {},
   "outputs": [],
   "source": [
    "a = \"Data science\""
   ]
  },
  {
   "cell_type": "code",
   "execution_count": 7,
   "id": "fb998b4d",
   "metadata": {},
   "outputs": [
    {
     "data": {
      "text/plain": [
       "False"
      ]
     },
     "execution_count": 7,
     "metadata": {},
     "output_type": "execute_result"
    }
   ],
   "source": [
    "a.isupper()"
   ]
  },
  {
   "cell_type": "markdown",
   "id": "23d69cc4",
   "metadata": {},
   "source": [
    "The islower() method returns True if all the characters are in lower case, otherwise False.\n",
    "Numbers, symbols and spaces are not checked, only alphabet characters."
   ]
  },
  {
   "cell_type": "code",
   "execution_count": 8,
   "id": "7ec800fa",
   "metadata": {},
   "outputs": [],
   "source": [
    "b = \"data science\""
   ]
  },
  {
   "cell_type": "code",
   "execution_count": 10,
   "id": "11458a28",
   "metadata": {},
   "outputs": [
    {
     "data": {
      "text/plain": [
       "True"
      ]
     },
     "execution_count": 10,
     "metadata": {},
     "output_type": "execute_result"
    }
   ],
   "source": [
    "b.islower()"
   ]
  },
  {
   "cell_type": "markdown",
   "id": "8bcafc76",
   "metadata": {},
   "source": [
    "We can perform operations on the results of the operation (chain of method)"
   ]
  },
  {
   "cell_type": "markdown",
   "id": "de686ef1",
   "metadata": {},
   "source": [
    "Please ordered to convert all letters to capital and then changed to small all"
   ]
  },
  {
   "cell_type": "code",
   "execution_count": 11,
   "id": "5b85ec8f",
   "metadata": {},
   "outputs": [
    {
     "name": "stdout",
     "output_type": "stream",
     "text": [
      "data\n"
     ]
    }
   ],
   "source": [
    "print(\"Data\".upper().lower())"
   ]
  },
  {
   "cell_type": "markdown",
   "id": "98bc8bc4",
   "metadata": {},
   "source": [
    "Please ordered to convert all letters to small and then changed to capital all"
   ]
  },
  {
   "cell_type": "code",
   "execution_count": 12,
   "id": "2f57b0bd",
   "metadata": {},
   "outputs": [
    {
     "name": "stdout",
     "output_type": "stream",
     "text": [
      "DATA\n"
     ]
    }
   ],
   "source": [
    "print(\"Data\".lower().upper())"
   ]
  },
  {
   "cell_type": "markdown",
   "id": "399b1f27",
   "metadata": {},
   "source": [
    "Please ordered to convert all letters to capital and then changed to small all, after checking whether all letters are lowercase the answer is no/false"
   ]
  },
  {
   "cell_type": "code",
   "execution_count": 14,
   "id": "09af4370",
   "metadata": {},
   "outputs": [
    {
     "name": "stdout",
     "output_type": "stream",
     "text": [
      "True\n"
     ]
    }
   ],
   "source": [
    "print(\"Data\".upper().lower().islower())"
   ]
  },
  {
   "cell_type": "markdown",
   "id": "20bf02cb",
   "metadata": {},
   "source": [
    "Please ordered to convert all letters to capital and then changed to small all, after checking whether all letters are uppercase (capital) the answer is no/false"
   ]
  },
  {
   "cell_type": "code",
   "execution_count": 15,
   "id": "822c9325",
   "metadata": {},
   "outputs": [
    {
     "name": "stdout",
     "output_type": "stream",
     "text": [
      "False\n"
     ]
    }
   ],
   "source": [
    "print(\"Data\".upper().lower().isupper())"
   ]
  }
 ],
 "metadata": {
  "kernelspec": {
   "display_name": "Python 3 (ipykernel)",
   "language": "python",
   "name": "python3"
  },
  "language_info": {
   "codemirror_mode": {
    "name": "ipython",
    "version": 3
   },
   "file_extension": ".py",
   "mimetype": "text/x-python",
   "name": "python",
   "nbconvert_exporter": "python",
   "pygments_lexer": "ipython3",
   "version": "3.9.7"
  }
 },
 "nbformat": 4,
 "nbformat_minor": 5
}
