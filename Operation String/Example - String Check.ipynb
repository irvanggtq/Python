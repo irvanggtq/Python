{
 "cells": [
  {
   "cell_type": "markdown",
   "id": "88806a04",
   "metadata": {},
   "source": [
    "# Example Checking String"
   ]
  },
  {
   "cell_type": "code",
   "execution_count": 1,
   "id": "34092c2d",
   "metadata": {},
   "outputs": [
    {
     "name": "stdout",
     "output_type": "stream",
     "text": [
      "Insert your name:\n",
      "in your dream 007\n",
      "Insert your name correctly\n",
      "Insert your name:\n",
      "Kim Min Joo\n",
      " \n",
      "Hello, Kim Min Joo\n"
     ]
    }
   ],
   "source": [
    "while True:\n",
    "    print('Insert your name:')\n",
    "    name = input()\n",
    "    if name.istitle():\n",
    "        print(' ')\n",
    "        print('Hello,', name)\n",
    "        break\n",
    "    print('Insert your name correctly')"
   ]
  },
  {
   "cell_type": "code",
   "execution_count": 2,
   "id": "d6633d81",
   "metadata": {},
   "outputs": [
    {
     "name": "stdout",
     "output_type": "stream",
     "text": [
      "Masukkan no. hp:\n",
      "08123456789\n",
      " \n",
      "Nanti aku WA ke 08123456789 yaa\n"
     ]
    }
   ],
   "source": [
    "while True:\n",
    "    print('Masukkan no. hp:')\n",
    "    nohp = input()\n",
    "    if nohp.isdecimal():\n",
    "        print(' ')\n",
    "        print('Nanti aku WA ke', nohp, 'yaa')\n",
    "        break\n",
    "    print('Masukkan no. hp kamu dengan benar')"
   ]
  },
  {
   "cell_type": "code",
   "execution_count": null,
   "id": "58b1a5e5",
   "metadata": {},
   "outputs": [],
   "source": []
  }
 ],
 "metadata": {
  "kernelspec": {
   "display_name": "Python 3 (ipykernel)",
   "language": "python",
   "name": "python3"
  },
  "language_info": {
   "codemirror_mode": {
    "name": "ipython",
    "version": 3
   },
   "file_extension": ".py",
   "mimetype": "text/x-python",
   "name": "python",
   "nbconvert_exporter": "python",
   "pygments_lexer": "ipython3",
   "version": "3.9.12"
  }
 },
 "nbformat": 4,
 "nbformat_minor": 5
}
