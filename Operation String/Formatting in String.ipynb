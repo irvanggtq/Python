{
 "cells": [
  {
   "cell_type": "markdown",
   "id": "88806a04",
   "metadata": {},
   "source": [
    "# Formatting in String"
   ]
  },
  {
   "cell_type": "markdown",
   "id": "91feea22",
   "metadata": {},
   "source": [
    "Fill\n",
    "\n",
    "The zfill() method adds zeros (0) at the beginning of the string, until it reaches the specified length.\n",
    "If the value of the len parameter is less than the length of the string, no filling is done."
   ]
  },
  {
   "cell_type": "code",
   "execution_count": 18,
   "id": "c1e1929f",
   "metadata": {},
   "outputs": [
    {
     "name": "stdout",
     "output_type": "stream",
     "text": [
      "07\n",
      "-0000.55\n",
      "0000000her\n"
     ]
    }
   ],
   "source": [
    "a = 7\n",
    "b = -0.55\n",
    "c = 'her'\n",
    "print(str(a).zfill(2))\n",
    "print(str(b).zfill(8))\n",
    "print(c.zfill(10))"
   ]
  },
  {
   "cell_type": "code",
   "execution_count": 3,
   "id": "b4a4be73",
   "metadata": {},
   "outputs": [
    {
     "name": "stdout",
     "output_type": "stream",
     "text": [
      "00387\n",
      "0072.6\n",
      "000data science\n"
     ]
    }
   ],
   "source": [
    "x = 387\n",
    "y = 72.6\n",
    "z = 'data science'\n",
    "\n",
    "print(str(x).zfill(5)) #integer\n",
    "print(str(y).zfill(6)) #float\n",
    "print(z.zfill(15)) #string"
   ]
  },
  {
   "cell_type": "markdown",
   "id": "10641cf6",
   "metadata": {},
   "source": [
    "Center align\n",
    "\n",
    "The center() method will center align the string, using a specified character (space is default) as the fill character. Syntax: string.center(length, character).\n",
    "    \n",
    "\n",
    "Left align\n",
    "\n",
    "The ljust() method will left align the string, using a specified character (space is default) as the fill character. Syntax: string.ljust(length, character).\n",
    "\n",
    "\n",
    "Right align\n",
    "\n",
    "The rjust() method will right align the string, using a specified character (space is default) as the fill character. Syntax: string.rjust(length, character)."
   ]
  },
  {
   "cell_type": "code",
   "execution_count": 19,
   "id": "5567bf36",
   "metadata": {},
   "outputs": [
    {
     "name": "stdout",
     "output_type": "stream",
     "text": [
      "   Data   \n",
      "      Data\n",
      "Data      \n"
     ]
    }
   ],
   "source": [
    "print('Data'.center(10))\n",
    "print('Data'.rjust(10))\n",
    "print('Data'.ljust(10))"
   ]
  },
  {
   "cell_type": "markdown",
   "id": "d3759d51",
   "metadata": {},
   "source": [
    "Raw string\n",
    "\n",
    "Raw string, when you want to type symbol in string but won't read as function using \"r\" or (\\) if you want insert escape char/symbol."
   ]
  },
  {
   "cell_type": "code",
   "execution_count": 20,
   "id": "1dca9126",
   "metadata": {},
   "outputs": [
    {
     "name": "stdout",
     "output_type": "stream",
     "text": [
      "Data\\nScience\n"
     ]
    }
   ],
   "source": [
    "print(r'Data\\nScience')"
   ]
  },
  {
   "cell_type": "code",
   "execution_count": 23,
   "id": "12d87e44",
   "metadata": {},
   "outputs": [
    {
     "name": "stdout",
     "output_type": "stream",
     "text": [
      "                                My Story Today                                \n",
      "I'm a student. I going to school at 7 a.m. for learn code.                    \n",
      "It's good to learn code in this era. You can learn too with this link below.  \n",
      "                                                                MyEduSolve.com\n"
     ]
    }
   ],
   "source": [
    "print('My Story Today'.center(78))\n",
    "print('I\\'m a student. I going to school at 7 a.m. for learn code.'.ljust(78))\n",
    "print('It\\'s good to learn code in this era. You can learn too with this link below.'.ljust(78))\n",
    "print('MyEduSolve.com'.rjust(78))"
   ]
  },
  {
   "cell_type": "code",
   "execution_count": 21,
   "id": "c37b98bf",
   "metadata": {},
   "outputs": [
    {
     "name": "stdout",
     "output_type": "stream",
     "text": [
      "Ini contoh\\tbuat tab tanpa kebaca\n"
     ]
    }
   ],
   "source": [
    "print(r'Ini contoh\\tbuat tab tanpa kebaca')"
   ]
  },
  {
   "cell_type": "code",
   "execution_count": 1,
   "id": "a0232b7d",
   "metadata": {},
   "outputs": [
    {
     "data": {
      "text/plain": [
       "'xxxDataxxx'"
      ]
     },
     "execution_count": 1,
     "metadata": {},
     "output_type": "execute_result"
    }
   ],
   "source": [
    "'Data'.center(10, 'x')"
   ]
  }
 ],
 "metadata": {
  "kernelspec": {
   "display_name": "Python 3 (ipykernel)",
   "language": "python",
   "name": "python3"
  },
  "language_info": {
   "codemirror_mode": {
    "name": "ipython",
    "version": 3
   },
   "file_extension": ".py",
   "mimetype": "text/x-python",
   "name": "python",
   "nbconvert_exporter": "python",
   "pygments_lexer": "ipython3",
   "version": "3.9.12"
  }
 },
 "nbformat": 4,
 "nbformat_minor": 5
}
