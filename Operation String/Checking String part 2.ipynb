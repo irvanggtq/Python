{
 "cells": [
  {
   "cell_type": "markdown",
   "id": "88806a04",
   "metadata": {},
   "source": [
    "# Check String on Python"
   ]
  },
  {
   "cell_type": "markdown",
   "id": "ed60430f",
   "metadata": {},
   "source": [
    "Alphabet\n",
    "\n",
    "The isalpha() method returns True if all the characters are alphabet letters (a-z).\n",
    "\n",
    "\n",
    "Alphabet and Number\n",
    "\n",
    "The isalnum() method returns True if all the characters are alphanumeric, meaning alphabet letter (a-z) and numbers (0-9).\n",
    "\n",
    "\n",
    "Decimal\n",
    "\n",
    "The isdecimal() method returns True if all the characters are decimals (0-9).\n",
    "\n",
    "\n",
    "Space\n",
    "\n",
    "The isspace() method returns True if all the characters in a string are whitespaces, otherwise False.\n",
    "\n",
    "\n",
    "Title\n",
    "\n",
    "The istitle() method returns True if all words in a text start with a upper case letter, and the rest of the word are lower case letters, otherwise False.\n"
   ]
  },
  {
   "cell_type": "code",
   "execution_count": 5,
   "id": "55827c10",
   "metadata": {},
   "outputs": [
    {
     "name": "stdout",
     "output_type": "stream",
     "text": [
      "True\n",
      "True\n",
      "True\n",
      "True\n",
      "True\n"
     ]
    }
   ],
   "source": [
    "print(\"Data\".isalpha()) # mengecek alfabet\n",
    "print(\"Data2022\".isalnum()) # mengecek alfa numerik\n",
    "print(\"2022\".isdecimal()) # mengecek number dec\n",
    "print(\" \".isspace()) # mengecek space\n",
    "print(\"Data Science\".istitle()) # mengecek kapital di setiap kata"
   ]
  },
  {
   "cell_type": "code",
   "execution_count": 2,
   "id": "f25091c2",
   "metadata": {},
   "outputs": [
    {
     "name": "stdout",
     "output_type": "stream",
     "text": [
      "Masukkan nama:\n",
      "Rizal\n",
      " \n",
      "Halo Rizal\n"
     ]
    }
   ],
   "source": [
    "while True:\n",
    "    print('Masukkan nama:')\n",
    "    name = input()\n",
    "    if name.istitle():\n",
    "        print(' ')\n",
    "        print('Halo', name)\n",
    "        break\n",
    "    print('Masukkan nama Anda dengan benar')"
   ]
  },
  {
   "cell_type": "code",
   "execution_count": 7,
   "id": "f34ac953",
   "metadata": {},
   "outputs": [
    {
     "data": {
      "text/plain": [
       "True"
      ]
     },
     "execution_count": 7,
     "metadata": {},
     "output_type": "execute_result"
    }
   ],
   "source": [
    "a = \"Data Analyst\"\n",
    "a.istitle()"
   ]
  }
 ],
 "metadata": {
  "kernelspec": {
   "display_name": "Python 3 (ipykernel)",
   "language": "python",
   "name": "python3"
  },
  "language_info": {
   "codemirror_mode": {
    "name": "ipython",
    "version": 3
   },
   "file_extension": ".py",
   "mimetype": "text/x-python",
   "name": "python",
   "nbconvert_exporter": "python",
   "pygments_lexer": "ipython3",
   "version": "3.9.12"
  }
 },
 "nbformat": 4,
 "nbformat_minor": 5
}
